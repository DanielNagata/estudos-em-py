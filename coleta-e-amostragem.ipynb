{
  "nbformat": 4,
  "nbformat_minor": 0,
  "metadata": {
    "colab": {
      "provenance": [],
      "authorship_tag": "ABX9TyN8L1zf/qEpiFLbELVko0QA",
      "include_colab_link": true
    },
    "kernelspec": {
      "name": "python3",
      "display_name": "Python 3"
    },
    "language_info": {
      "name": "python"
    }
  },
  "cells": [
    {
      "cell_type": "markdown",
      "metadata": {
        "id": "view-in-github",
        "colab_type": "text"
      },
      "source": [
        "<a href=\"https://colab.research.google.com/github/DanielNagata/estudos-em-py/blob/main/coleta-e-amostragem.ipynb\" target=\"_parent\"><img src=\"https://colab.research.google.com/assets/colab-badge.svg\" alt=\"Open In Colab\"/></a>"
      ]
    },
    {
      "cell_type": "code",
      "execution_count": 16,
      "metadata": {
        "colab": {
          "base_uri": "https://localhost:8080/"
        },
        "id": "L91TF99O_Zaa",
        "outputId": "f12daac5-0441-4028-8d21-518f0e066ae8"
      },
      "outputs": [
        {
          "name": "stdout",
          "output_type": "stream",
          "text": [
            "Digite aqui seu nome: Daniel\n",
            "Digite aqui sua idade: 28\n",
            "Digite aqui sua altura: 1.62\n"
          ]
        }
      ],
      "source": [
        "nome = input('Digite aqui seu nome: ')\n",
        "idade = int(input('Digite aqui sua idade: '))\n",
        "altura = float(input('Digite aqui sua altura: '))"
      ]
    },
    {
      "cell_type": "code",
      "source": [
        "print('Olá,', nome,',você tem', idade, 'anos e mede', altura,'metros.' )"
      ],
      "metadata": {
        "colab": {
          "base_uri": "https://localhost:8080/"
        },
        "id": "YcvS2Jt5_jsi",
        "outputId": "d0987706-d2dc-455a-f6d6-24fa3ede6126"
      },
      "execution_count": 18,
      "outputs": [
        {
          "output_type": "stream",
          "name": "stdout",
          "text": [
            "Olá, Daniel ,você tem 28 anos e mede 1.62 metros.\n"
          ]
        }
      ]
    },
    {
      "cell_type": "code",
      "source": [],
      "metadata": {
        "id": "1cpt0lme_qMO"
      },
      "execution_count": null,
      "outputs": []
    }
  ]
}